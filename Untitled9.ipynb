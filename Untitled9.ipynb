{
 "cells": [
  {
   "cell_type": "code",
   "execution_count": 1,
   "metadata": {},
   "outputs": [],
   "source": [
    "t = (1,2,4,3)"
   ]
  },
  {
   "cell_type": "code",
   "execution_count": 2,
   "metadata": {},
   "outputs": [
    {
     "data": {
      "text/plain": [
       "3"
      ]
     },
     "execution_count": 2,
     "metadata": {},
     "output_type": "execute_result"
    }
   ],
   "source": [
    "t[3]"
   ]
  },
  {
   "cell_type": "code",
   "execution_count": 3,
   "metadata": {},
   "outputs": [
    {
     "name": "stdout",
     "output_type": "stream",
     "text": [
      "4\n"
     ]
    }
   ],
   "source": [
    "print(len(t))"
   ]
  },
  {
   "cell_type": "code",
   "execution_count": 4,
   "metadata": {},
   "outputs": [
    {
     "name": "stdout",
     "output_type": "stream",
     "text": [
      "3\n"
     ]
    }
   ],
   "source": [
    "print(t[3])"
   ]
  },
  {
   "cell_type": "code",
   "execution_count": 5,
   "metadata": {},
   "outputs": [
    {
     "data": {
      "text/plain": [
       "(2, 4)"
      ]
     },
     "execution_count": 5,
     "metadata": {},
     "output_type": "execute_result"
    }
   ],
   "source": [
    "t[1:-1]"
   ]
  },
  {
   "cell_type": "code",
   "execution_count": 6,
   "metadata": {},
   "outputs": [],
   "source": [
    "my_tuple = (1, 2, 3, 4)"
   ]
  },
  {
   "cell_type": "code",
   "execution_count": 8,
   "metadata": {},
   "outputs": [
    {
     "ename": "AttributeError",
     "evalue": "'tuple' object has no attribute 'append'",
     "output_type": "error",
     "traceback": [
      "\u001b[1;31m---------------------------------------------------------------------------\u001b[0m",
      "\u001b[1;31mAttributeError\u001b[0m                            Traceback (most recent call last)",
      "\u001b[1;32m<ipython-input-8-4929b5d8a1ea>\u001b[0m in \u001b[0;36m<module>\u001b[1;34m\u001b[0m\n\u001b[1;32m----> 1\u001b[1;33m \u001b[0mmy_tuple\u001b[0m\u001b[1;33m.\u001b[0m\u001b[0mappend\u001b[0m\u001b[1;33m(\u001b[0m\u001b[1;36m5\u001b[0m\u001b[1;33m,\u001b[0m \u001b[1;36m6\u001b[0m\u001b[1;33m,\u001b[0m \u001b[1;36m7\u001b[0m\u001b[1;33m)\u001b[0m\u001b[1;33m\u001b[0m\u001b[1;33m\u001b[0m\u001b[0m\n\u001b[0m",
      "\u001b[1;31mAttributeError\u001b[0m: 'tuple' object has no attribute 'append'"
     ]
    }
   ],
   "source": [
    "my_tuple.append(5, 6, 7)"
   ]
  },
  {
   "cell_type": "code",
   "execution_count": 9,
   "metadata": {},
   "outputs": [],
   "source": [
    "a,b,c = 1,2,3"
   ]
  },
  {
   "cell_type": "code",
   "execution_count": 10,
   "metadata": {},
   "outputs": [
    {
     "data": {
      "text/plain": [
       "(1, 2, 3)"
      ]
     },
     "execution_count": 10,
     "metadata": {},
     "output_type": "execute_result"
    }
   ],
   "source": [
    "a,b,c"
   ]
  },
  {
   "cell_type": "code",
   "execution_count": 11,
   "metadata": {},
   "outputs": [],
   "source": [
    "a=[(1,1),(2,4),(3,9)]"
   ]
  },
  {
   "cell_type": "code",
   "execution_count": 12,
   "metadata": {},
   "outputs": [
    {
     "data": {
      "text/plain": [
       "list"
      ]
     },
     "execution_count": 12,
     "metadata": {},
     "output_type": "execute_result"
    }
   ],
   "source": [
    "type(a)"
   ]
  },
  {
   "cell_type": "code",
   "execution_count": 20,
   "metadata": {},
   "outputs": [],
   "source": [
    "t = (1,2,3.5,1,5,6,'a','b')"
   ]
  },
  {
   "cell_type": "code",
   "execution_count": 21,
   "metadata": {},
   "outputs": [
    {
     "name": "stdout",
     "output_type": "stream",
     "text": [
      "(1, 2, 3.5, 1, 5, 6, 'a', 'b')\n"
     ]
    }
   ],
   "source": [
    "print(t)"
   ]
  },
  {
   "cell_type": "code",
   "execution_count": 22,
   "metadata": {},
   "outputs": [
    {
     "data": {
      "text/plain": [
       "tuple"
      ]
     },
     "execution_count": 22,
     "metadata": {},
     "output_type": "execute_result"
    }
   ],
   "source": [
    "type(t)"
   ]
  },
  {
   "cell_type": "code",
   "execution_count": 16,
   "metadata": {},
   "outputs": [],
   "source": [
    "s = {1,2,3,1,5,6}"
   ]
  },
  {
   "cell_type": "code",
   "execution_count": 17,
   "metadata": {},
   "outputs": [
    {
     "name": "stdout",
     "output_type": "stream",
     "text": [
      "{1, 2, 3, 5, 6}\n"
     ]
    }
   ],
   "source": [
    "print(s)"
   ]
  },
  {
   "cell_type": "code",
   "execution_count": 24,
   "metadata": {},
   "outputs": [],
   "source": [
    "randomlist = []"
   ]
  },
  {
   "cell_type": "code",
   "execution_count": 27,
   "metadata": {},
   "outputs": [
    {
     "ename": "AttributeError",
     "evalue": "'list' object has no attribute 'randint'",
     "output_type": "error",
     "traceback": [
      "\u001b[1;31m---------------------------------------------------------------------------\u001b[0m",
      "\u001b[1;31mAttributeError\u001b[0m                            Traceback (most recent call last)",
      "\u001b[1;32m<ipython-input-27-443dd9a218c6>\u001b[0m in \u001b[0;36m<module>\u001b[1;34m\u001b[0m\n\u001b[0;32m      1\u001b[0m \u001b[1;32mfor\u001b[0m \u001b[0mi\u001b[0m \u001b[1;32min\u001b[0m \u001b[0mrange\u001b[0m\u001b[1;33m(\u001b[0m\u001b[1;36m0\u001b[0m\u001b[1;33m,\u001b[0m\u001b[1;36m100\u001b[0m\u001b[1;33m)\u001b[0m\u001b[1;33m:\u001b[0m\u001b[1;33m\u001b[0m\u001b[1;33m\u001b[0m\u001b[0m\n\u001b[1;32m----> 2\u001b[1;33m     \u001b[0mn\u001b[0m \u001b[1;33m=\u001b[0m \u001b[0mrandomlist\u001b[0m\u001b[1;33m.\u001b[0m\u001b[0mrandint\u001b[0m\u001b[1;33m(\u001b[0m\u001b[1;36m1\u001b[0m\u001b[1;33m,\u001b[0m\u001b[1;36m100\u001b[0m\u001b[1;33m)\u001b[0m\u001b[1;33m\u001b[0m\u001b[1;33m\u001b[0m\u001b[0m\n\u001b[0m\u001b[0;32m      3\u001b[0m     \u001b[0mrandomlist\u001b[0m\u001b[1;33m.\u001b[0m\u001b[0mappend\u001b[0m\u001b[1;33m(\u001b[0m\u001b[0mn\u001b[0m\u001b[1;33m)\u001b[0m\u001b[1;33m\u001b[0m\u001b[1;33m\u001b[0m\u001b[0m\n",
      "\u001b[1;31mAttributeError\u001b[0m: 'list' object has no attribute 'randint'"
     ]
    }
   ],
   "source": [
    "for i in range(0,100):\n",
    "    n = randomlist.randint(1,100)\n",
    "    randomlist.append(n)"
   ]
  },
  {
   "cell_type": "code",
   "execution_count": 28,
   "metadata": {},
   "outputs": [],
   "source": [
    "import random\n",
    "from math import sqrt"
   ]
  },
  {
   "cell_type": "code",
   "execution_count": 29,
   "metadata": {},
   "outputs": [],
   "source": [
    "for i in range(0,100):\n",
    "    n = random.randint(1,100)\n",
    "    randomlist.append(n)"
   ]
  },
  {
   "cell_type": "code",
   "execution_count": 30,
   "metadata": {},
   "outputs": [
    {
     "name": "stdout",
     "output_type": "stream",
     "text": [
      "\n",
      "\n",
      "=================List of 100 Random Number================\n",
      "\n",
      "[21, 46, 84, 39, 98, 57, 38, 27, 77, 90, 72, 83, 52, 44, 49, 71, 49, 47, 14, 66, 15, 67, 27, 6, 83, 97, 2, 87, 21, 25, 42, 24, 13, 6, 87, 49, 60, 14, 50, 15, 6, 15, 60, 7, 82, 41, 65, 11, 30, 2, 16, 45, 47, 68, 76, 79, 11, 6, 4, 53, 45, 31, 23, 43, 40, 8, 17, 30, 83, 86, 12, 50, 84, 65, 47, 1, 61, 67, 17, 50, 83, 48, 84, 17, 44, 39, 2, 60, 6, 96, 100, 91, 17, 69, 53, 18, 57, 85, 39, 57]\n"
     ]
    }
   ],
   "source": [
    "print(\"\\n\\n=================List of 100 Random Number================\\n\")\n",
    "def convert(list): \n",
    "    return tuple(list)\n",
    "print(randomlist)\n",
    "def prime_factor(n):\n",
    "    r = n[:]\n",
    "    for i in n:\n",
    "        if i == 1:\n",
    "           \n",
    "            r.remove(i)\n",
    "            continue\n",
    "        for j in range(2,int(sqrt(i))):\n",
    "            if i%j == 0:\n",
    "                r.remove(i)\n",
    "                break\n",
    "    return r"
   ]
  },
  {
   "cell_type": "code",
   "execution_count": 32,
   "metadata": {},
   "outputs": [
    {
     "name": "stdout",
     "output_type": "stream",
     "text": [
      "\n",
      "\n",
      "======List of only Prime Number============\n",
      "\n",
      "[83, 49, 71, 49, 47, 15, 67, 6, 83, 97, 2, 25, 13, 6, 49, 15, 6, 15, 7, 41, 11, 2, 47, 79, 11, 6, 4, 53, 31, 23, 43, 8, 17, 83, 47, 61, 67, 17, 83, 17, 2, 6, 17, 53]\n",
      "\n",
      "\n",
      "=======Tuple of only prime number  ============\n",
      "\n",
      "(83, 49, 71, 49, 47, 15, 67, 6, 83, 97, 2, 25, 13, 6, 49, 15, 6, 15, 7, 41, 11, 2, 47, 79, 11, 6, 4, 53, 31, 23, 43, 8, 17, 83, 47, 61, 67, 17, 83, 17, 2, 6, 17, 53)\n"
     ]
    }
   ],
   "source": [
    "print(\"\\n\\n======List of only Prime Number============\\n\")\n",
    "print(prime_factor(randomlist))\n",
    "print(\"\\n\\n=======Tuple of only prime number  ============\\n\")\n",
    "print(convert(prime_factor(randomlist)))\n"
   ]
  },
  {
   "cell_type": "code",
   "execution_count": 33,
   "metadata": {},
   "outputs": [
    {
     "name": "stdout",
     "output_type": "stream",
     "text": [
      "\n",
      "\n",
      "=================List of 100 Random Number================\n",
      "\n",
      "[19, 50, 92, 19, 88, 66, 82, 51, 93, 66, 2, 95, 93, 37, 9, 44, 11, 21, 88, 56, 35, 80, 76, 24, 65, 95, 61, 22, 19, 50, 34, 15, 2, 59, 36, 24, 71, 22, 33, 67, 63, 75, 60, 62, 28, 30, 51, 94, 83, 24, 83, 4, 51, 86, 42, 72, 87, 22, 83, 45, 15, 1, 81, 94, 91, 49, 61, 9, 82, 22, 99, 17, 87, 53, 83, 53, 39, 65, 37, 68, 36, 35, 13, 83, 34, 97, 71, 46, 70, 64, 82, 22, 48, 67, 67, 42, 32, 39, 36, 60]\n",
      "\n",
      "\n",
      "======List of only Prime Number============\n",
      "\n",
      "[19, 19, 2, 37, 9, 11, 35, 61, 19, 15, 2, 59, 71, 67, 83, 83, 4, 83, 15, 49, 61, 9, 17, 53, 83, 53, 37, 35, 13, 83, 97, 71, 67, 67]\n",
      "\n",
      "\n",
      "=======Tuple on pnly prime number  ============\n",
      "\n",
      "(19, 19, 2, 37, 9, 11, 35, 61, 19, 15, 2, 59, 71, 67, 83, 83, 4, 83, 15, 49, 61, 9, 17, 53, 83, 53, 37, 35, 13, 83, 97, 71, 67, 67)\n"
     ]
    }
   ],
   "source": [
    "import random\n",
    "from math import sqrt\n",
    "\n",
    "\n",
    "randomlist = []\n",
    "for i in range(0,100):\n",
    "    n = random.randint(1,100)\n",
    "    randomlist.append(n)\n",
    "print(\"\\n\\n=================List of 100 Random Number================\\n\")\n",
    "def convert(list): \n",
    "    return tuple(list)\n",
    "print(randomlist)\n",
    "def prime_factor(n):\n",
    "    r = n[:]\n",
    "    for i in n:\n",
    "        if i == 1:\n",
    "           \n",
    "            r.remove(i)\n",
    "            continue\n",
    "        for j in range(2,int(sqrt(i))):\n",
    "            if i%j == 0:\n",
    "                r.remove(i)\n",
    "                break\n",
    "    return r\n",
    "print(\"\\n\\n======List of only Prime Number============\\n\")\n",
    "print(prime_factor(randomlist))\n",
    "print(\"\\n\\n=======Tuple on pnly prime number  ============\\n\")\n",
    "print(convert(prime_factor(randomlist)))"
   ]
  },
  {
   "cell_type": "code",
   "execution_count": null,
   "metadata": {},
   "outputs": [],
   "source": []
  }
 ],
 "metadata": {
  "kernelspec": {
   "display_name": "Python 3",
   "language": "python",
   "name": "python3"
  },
  "language_info": {
   "codemirror_mode": {
    "name": "ipython",
    "version": 3
   },
   "file_extension": ".py",
   "mimetype": "text/x-python",
   "name": "python",
   "nbconvert_exporter": "python",
   "pygments_lexer": "ipython3",
   "version": "3.7.3"
  }
 },
 "nbformat": 4,
 "nbformat_minor": 2
}
